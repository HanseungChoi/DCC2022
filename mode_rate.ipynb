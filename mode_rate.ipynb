{
 "cells": [
  {
   "cell_type": "code",
   "execution_count": 26,
   "id": "db21a733",
   "metadata": {},
   "outputs": [],
   "source": [
    "import os\n",
    "import numpy as np\n",
    "import time\n",
    "\n",
    "from PIL import Image\n",
    "import matplotlib.pyplot as plt\n",
    "import matplotlib.image as img\n",
    "\n",
    "import pandas as pd\n",
    "import seaborn as sns\n",
    "\n",
    "import csv\n",
    "\n",
    "%matplotlib inline "
   ]
  },
  {
   "cell_type": "code",
   "execution_count": 27,
   "id": "b725e870",
   "metadata": {},
   "outputs": [],
   "source": [
    "from sklearn.cluster import KMeans\n",
    "import cv2"
   ]
  },
  {
   "cell_type": "code",
   "execution_count": 28,
   "id": "d037a53e",
   "metadata": {},
   "outputs": [],
   "source": [
    "# base directory\n",
    "base_dir = \"/home/dmsai2/Desktop/DCC2022/data\"\n",
    "processed_dir = \"/home/dmsai2/Desktop/DCC2022/pdata\"\n",
    "sub_data_dir = \"/home/dmsai2/Desktop/DCC2022/tdata\""
   ]
  },
  {
   "cell_type": "code",
   "execution_count": 29,
   "id": "fb29cf9c",
   "metadata": {},
   "outputs": [
    {
     "name": "stdout",
     "output_type": "stream",
     "text": [
      "L2_21 L2_24 L2_15 L2_27 L2_30 L2_50 L2_40 L2_39 L2_20 L2_45 L2_3 L2_12 L2_41 L2_10 L2_34 L2_52 L2_33 L2_46 L2_44 L2_25\n"
     ]
    }
   ],
   "source": [
    "# load class list from directory\n",
    "cls_list = os.listdir(base_dir)\n",
    "print(*cls_list)"
   ]
  },
  {
   "cell_type": "code",
   "execution_count": 30,
   "id": "55208ec7",
   "metadata": {},
   "outputs": [
    {
     "name": "stdout",
     "output_type": "stream",
     "text": [
      "L2_21 : 410\n",
      "------------\n",
      "L2_24 : 782\n",
      "------------\n",
      "L2_15 : 1509\n",
      "------------\n",
      "L2_27 : 426\n",
      "------------\n",
      "L2_30 : 364\n",
      "------------\n",
      "L2_50 : 781\n",
      "------------\n",
      "L2_40 : 180\n",
      "------------\n",
      "L2_39 : 454\n",
      "------------\n",
      "L2_20 : 410\n",
      "------------\n",
      "L2_45 : 631\n",
      "------------\n",
      "L2_3 : 595\n",
      "------------\n",
      "L2_12 : 518\n",
      "------------\n",
      "L2_41 : 593\n",
      "------------\n",
      "L2_10 : 1893\n",
      "------------\n",
      "L2_34 : 419\n",
      "------------\n",
      "L2_52 : 382\n",
      "------------\n",
      "L2_33 : 6206\n",
      "------------\n",
      "L2_46 : 2214\n",
      "------------\n",
      "L2_44 : 547\n",
      "------------\n",
      "L2_25 : 6189\n",
      "------------\n",
      "num of class : 20\n",
      "num of data : 25503\n"
     ]
    }
   ],
   "source": [
    "numdata = 0\n",
    "numclass = 0\n",
    "data_list = {}\n",
    "\n",
    "for cls in cls_list:\n",
    "    imlist = os.listdir(base_dir + \"/\" + cls)\n",
    "    print(cls, end=' : ')\n",
    "    print(len(imlist))\n",
    "    numdata = numdata + len(imlist)\n",
    "    data_list[cls] = imlist\n",
    "    print(\"-\"*12)\n",
    "\n",
    "numclass = len(cls_list)\n",
    "\n",
    "print(\"num of class :\", numclass)\n",
    "print(\"num of data :\", numdata)"
   ]
  },
  {
   "cell_type": "code",
   "execution_count": 31,
   "id": "a2ffc50e",
   "metadata": {},
   "outputs": [
    {
     "name": "stdout",
     "output_type": "stream",
     "text": [
      "num of subclass : 20\n"
     ]
    }
   ],
   "source": [
    "numsubcls = 0\n",
    "subcls_list = {}\n",
    "\n",
    "for cls in cls_list:\n",
    "    sub_list = os.listdir(sub_data_dir + \"/\" + cls)\n",
    "    subcls_list[cls] = sub_list\n",
    "    \n",
    "numsubcls = len(subcls_list)\n",
    "print(\"num of subclass :\", numsubcls)"
   ]
  },
  {
   "cell_type": "code",
   "execution_count": 32,
   "id": "c386d3f4",
   "metadata": {},
   "outputs": [
    {
     "name": "stdout",
     "output_type": "stream",
     "text": [
      "reading data from csv.\n",
      "                    img  label ftype cmap       fsize              fmtime  \\\n",
      "0  qfknrhrrdikepslumadh  L2_21   jpg  RGB   24.222656 2021-12-17 17:53:18   \n",
      "1  ixxhosetjwabxnntumca  L2_21   jpg  RGB   55.888672 2021-12-17 17:53:24   \n",
      "2  vyaroxjwnkljwbhkzphd  L2_21   jpg  RGB  129.636719 2021-12-17 17:53:22   \n",
      "3  jiicqwbbzhvvjxhozaji  L2_21   jpg  RGB  375.979492 2021-12-17 17:53:06   \n",
      "4  kfxkkclkrczktrfddomu  L2_21   jpg  RGB  115.896484 2021-12-17 17:53:24   \n",
      "\n",
      "   width  height  channel subclass  mode_rate  \n",
      "0    300     300        3     plug  94.719184  \n",
      "1   1200    1200        3     plug  94.718980  \n",
      "2    700     700        3     plug  94.719184  \n",
      "3   2480    3508        3     plug  94.719184  \n",
      "4   3508    2480        3     plug  94.647143  \n"
     ]
    }
   ],
   "source": [
    "data = []\n",
    "cnt = 0\n",
    "\n",
    "if os.path.isfile('processed_df.csv'):\n",
    "    print(\"reading data from csv.\")\n",
    "    df = pd.read_csv('processed_df.csv', index_col=0)\n",
    "    df = df.astype({'img':'string', 'label':'string', 'ftype':'string', 'cmap':'string', 'fsize':'float', 'fmtime':'datetime64[ns]', 'width':'int', 'height':'int', 'channel':'int', 'subclass':'string', 'mode_rate':'float'})\n",
    "    print(df.head())\n",
    "    \n",
    "else:\n",
    "    print(\"generating data\")\n",
    "    for label in data_list.keys():\n",
    "        for subcls in subcls_list[label]:\n",
    "            subcls_path = f\"{sub_data_dir}/{label}/{subcls}\"\n",
    "            imglist = os.listdir(subcls_path)\n",
    "\n",
    "            for img_dir in imglist:\n",
    "                img_path = f\"{subcls_path}/{img_dir}\"\n",
    "                img = Image.open(img_path)\n",
    "                imgarr = np.array(img)\n",
    "                if len(imgarr.shape) == 2:\n",
    "                    w, h = imgarr.shape\n",
    "                    c = 1\n",
    "                else:\n",
    "                    w, h, c = imgarr.shape\n",
    "                fsize = (os.path.getsize(img_path) / 1024.)\n",
    "                fmtime = time.ctime(os.path.getmtime(img_path))\n",
    "                data.append([img_dir[:-4], label, img_dir[-3:], img.mode, fsize, fmtime, w, h, c, subcls])\n",
    "                cnt += 1\n",
    "                print(f\"{(int((cnt / numdata) * 100000.) / 1000.)}% - {cnt}/{numdata}\")\n",
    "    \n",
    "    df = pd.DataFrame(data, columns=['img','label','ftype', 'cmap', 'fsize', 'fmtime', 'width', 'height', 'channel', 'subclass'])\n",
    "    df = df.astype({'img':'string', 'label':'string', 'ftype':'string', 'cmap':'string', 'fsize':'float', 'fmtime':'datetime64[ns]', 'width':'int', 'height':'int', 'channel':'int', 'subclass':'string'})\n",
    "    print(df.head())"
   ]
  },
  {
   "cell_type": "code",
   "execution_count": 33,
   "id": "d4b99176",
   "metadata": {},
   "outputs": [
    {
     "name": "stdout",
     "output_type": "stream",
     "text": [
      "<class 'pandas.core.frame.DataFrame'>\n",
      "Int64Index: 25503 entries, 0 to 25502\n",
      "Data columns (total 11 columns):\n",
      " #   Column     Non-Null Count  Dtype         \n",
      "---  ------     --------------  -----         \n",
      " 0   img        25503 non-null  string        \n",
      " 1   label      25503 non-null  string        \n",
      " 2   ftype      25503 non-null  string        \n",
      " 3   cmap       25503 non-null  string        \n",
      " 4   fsize      25503 non-null  float64       \n",
      " 5   fmtime     25503 non-null  datetime64[ns]\n",
      " 6   width      25503 non-null  int64         \n",
      " 7   height     25503 non-null  int64         \n",
      " 8   channel    25503 non-null  int64         \n",
      " 9   subclass   25503 non-null  string        \n",
      " 10  mode_rate  25503 non-null  float64       \n",
      "dtypes: datetime64[ns](1), float64(2), int64(3), string(5)\n",
      "memory usage: 2.3 MB\n"
     ]
    }
   ],
   "source": [
    "df.info()"
   ]
  },
  {
   "cell_type": "code",
   "execution_count": 34,
   "id": "8e362450",
   "metadata": {},
   "outputs": [
    {
     "data": {
      "text/plain": [
       "ftype  cmap\n",
       "jpg    RGB     23944\n",
       "       CMYK       42\n",
       "       L           6\n",
       "png    RGBA     1127\n",
       "       RGB       374\n",
       "       P          10\n",
       "Name: cmap, dtype: int64"
      ]
     },
     "execution_count": 34,
     "metadata": {},
     "output_type": "execute_result"
    }
   ],
   "source": [
    "df.groupby('ftype')['cmap'].value_counts()"
   ]
  },
  {
   "cell_type": "code",
   "execution_count": 35,
   "id": "53c1f04a",
   "metadata": {},
   "outputs": [],
   "source": [
    "def centroid_histogram(clt):\n",
    "    # grab the number of different clusters and create a histogram\n",
    "    # based on the number of pixels assigned to each cluster\n",
    "    numLabels = np.arange(0, len(np.unique(clt.labels_)) + 1)\n",
    "    (hist, _) = np.histogram(clt.labels_, bins=numLabels)\n",
    "\n",
    "    # normalize the histogram, such that it sums to one\n",
    "    hist = hist.astype(\"float\")\n",
    "    hist /= hist.sum()\n",
    "\n",
    "    # return the histogram\n",
    "    return hist\n",
    "\n",
    "def plot_colors(hist, centroids):\n",
    "    # initialize the bar chart representing the relative frequency\n",
    "    # of each of the colors\n",
    "    bar = np.zeros((50, 300, 3), dtype=\"uint8\")\n",
    "    startX = 0\n",
    "\n",
    "    # loop over the percentage of each cluster and the color of\n",
    "    # each cluster\n",
    "    for (percent, color) in zip(hist, centroids):\n",
    "        # plot the relative percentage of each cluster\n",
    "        endX = startX + (percent * 300)\n",
    "        cv2.rectangle(bar, (int(startX), 0), (int(endX), 50),\n",
    "                      color.astype(\"uint8\").tolist(), -1)\n",
    "        startX = endX\n",
    "\n",
    "    # return the bar chart\n",
    "    return bar\n",
    "\n",
    "def analyzeimg(img_dir : str, isprint=False):\n",
    "    img = Image.open(img_dir)\n",
    "    img = img.convert('RGB')\n",
    "\n",
    "    img = np.array(img)\n",
    "    w, h, c = img.shape\n",
    "\n",
    "    rate = min(w, h) / 200.\n",
    "    rw, rh = int(w / rate), int(h / rate)\n",
    "    \n",
    "    img = cv2.resize(img, dsize=(rw, rh))\n",
    "    \n",
    "    w, h, c = img.shape\n",
    "    \n",
    "    img = img.reshape((w * h, 3))\n",
    "    \n",
    "    if isprint: plt.imshow(img)\n",
    "    \n",
    "    k = 30\n",
    "    clt = KMeans(n_clusters=k)\n",
    "    clt.fit(img)\n",
    "    \n",
    "    if isprint:\n",
    "        for center in clt.cluster_centers_:\n",
    "            print(\"color :\", center)\n",
    "        \n",
    "    hist = centroid_histogram(clt)\n",
    "    if isprint: print(\"each % :\", hist)\n",
    "    \n",
    "    bar = plot_colors(hist, clt.cluster_centers_)\n",
    "\n",
    "    if isprint:\n",
    "        # show our color bart\n",
    "        plt.figure()\n",
    "        # plt.axis(\"off\")\n",
    "        plt.imshow(bar)\n",
    "        plt.show()\n",
    "    \n",
    "    avg = sum([clt.cluster_centers_[i] * hist[i] for i in range(k)])\n",
    "    mode = clt.cluster_centers_[list(hist).index(max(hist))]\n",
    "    if isprint: print(f\"average : {avg}\\nmode : {mode} {int(hist[list(hist).index(max(hist))]*100)}%\")\n",
    "    \n",
    "    # average, mode, clusters(RGB), hist(each rate), rate of mode color\n",
    "    return avg, mode, clt.cluster_centers_, hist, hist[list(hist).index(max(hist))]*100"
   ]
  },
  {
   "cell_type": "code",
   "execution_count": 36,
   "id": "410c9ec2",
   "metadata": {},
   "outputs": [
    {
     "data": {
      "text/plain": [
       "30.167500000000004"
      ]
     },
     "execution_count": 36,
     "metadata": {},
     "output_type": "execute_result"
    }
   ],
   "source": [
    "avg, mode, clusters, hist, mode_rate = analyzeimg(base_dir + \"/L2_52/uehhbgclrdhrnrkuuenj.jpg\", False)\n",
    "mode_rate"
   ]
  },
  {
   "cell_type": "code",
   "execution_count": 37,
   "id": "e003455e",
   "metadata": {},
   "outputs": [
    {
     "data": {
      "text/html": [
       "<div>\n",
       "<style scoped>\n",
       "    .dataframe tbody tr th:only-of-type {\n",
       "        vertical-align: middle;\n",
       "    }\n",
       "\n",
       "    .dataframe tbody tr th {\n",
       "        vertical-align: top;\n",
       "    }\n",
       "\n",
       "    .dataframe thead th {\n",
       "        text-align: right;\n",
       "    }\n",
       "</style>\n",
       "<table border=\"1\" class=\"dataframe\">\n",
       "  <thead>\n",
       "    <tr style=\"text-align: right;\">\n",
       "      <th></th>\n",
       "      <th>fsize</th>\n",
       "      <th>width</th>\n",
       "      <th>height</th>\n",
       "      <th>channel</th>\n",
       "      <th>mode_rate</th>\n",
       "    </tr>\n",
       "  </thead>\n",
       "  <tbody>\n",
       "    <tr>\n",
       "      <th>count</th>\n",
       "      <td>25503.000000</td>\n",
       "      <td>25503.000000</td>\n",
       "      <td>25503.000000</td>\n",
       "      <td>25503.000000</td>\n",
       "      <td>25503.000000</td>\n",
       "    </tr>\n",
       "    <tr>\n",
       "      <th>mean</th>\n",
       "      <td>102.552891</td>\n",
       "      <td>1336.834216</td>\n",
       "      <td>1284.244089</td>\n",
       "      <td>3.044583</td>\n",
       "      <td>3.819827</td>\n",
       "    </tr>\n",
       "    <tr>\n",
       "      <th>std</th>\n",
       "      <td>123.861621</td>\n",
       "      <td>1166.400418</td>\n",
       "      <td>1069.300772</td>\n",
       "      <td>0.215317</td>\n",
       "      <td>18.629321</td>\n",
       "    </tr>\n",
       "    <tr>\n",
       "      <th>min</th>\n",
       "      <td>2.043945</td>\n",
       "      <td>97.000000</td>\n",
       "      <td>162.000000</td>\n",
       "      <td>1.000000</td>\n",
       "      <td>0.000000</td>\n",
       "    </tr>\n",
       "    <tr>\n",
       "      <th>25%</th>\n",
       "      <td>20.310059</td>\n",
       "      <td>375.000000</td>\n",
       "      <td>500.000000</td>\n",
       "      <td>3.000000</td>\n",
       "      <td>0.000000</td>\n",
       "    </tr>\n",
       "    <tr>\n",
       "      <th>50%</th>\n",
       "      <td>57.165039</td>\n",
       "      <td>700.000000</td>\n",
       "      <td>700.000000</td>\n",
       "      <td>3.000000</td>\n",
       "      <td>0.000000</td>\n",
       "    </tr>\n",
       "    <tr>\n",
       "      <th>75%</th>\n",
       "      <td>163.046387</td>\n",
       "      <td>2480.000000</td>\n",
       "      <td>2480.000000</td>\n",
       "      <td>3.000000</td>\n",
       "      <td>0.000000</td>\n",
       "    </tr>\n",
       "    <tr>\n",
       "      <th>max</th>\n",
       "      <td>3031.055664</td>\n",
       "      <td>5000.000000</td>\n",
       "      <td>5001.000000</td>\n",
       "      <td>4.000000</td>\n",
       "      <td>94.730816</td>\n",
       "    </tr>\n",
       "  </tbody>\n",
       "</table>\n",
       "</div>"
      ],
      "text/plain": [
       "              fsize         width        height       channel     mode_rate\n",
       "count  25503.000000  25503.000000  25503.000000  25503.000000  25503.000000\n",
       "mean     102.552891   1336.834216   1284.244089      3.044583      3.819827\n",
       "std      123.861621   1166.400418   1069.300772      0.215317     18.629321\n",
       "min        2.043945     97.000000    162.000000      1.000000      0.000000\n",
       "25%       20.310059    375.000000    500.000000      3.000000      0.000000\n",
       "50%       57.165039    700.000000    700.000000      3.000000      0.000000\n",
       "75%      163.046387   2480.000000   2480.000000      3.000000      0.000000\n",
       "max     3031.055664   5000.000000   5001.000000      4.000000     94.730816"
      ]
     },
     "execution_count": 37,
     "metadata": {},
     "output_type": "execute_result"
    }
   ],
   "source": [
    "df.describe()"
   ]
  },
  {
   "cell_type": "code",
   "execution_count": 39,
   "id": "7f81844b",
   "metadata": {},
   "outputs": [
    {
     "name": "stdout",
     "output_type": "stream",
     "text": [
      "0/25503 0.0% L2_21 qfknrhrrdikepslumadh mode rate : 60.4275\n",
      "1/25503 0.003921107320707368% L2_21 ixxhosetjwabxnntumca mode rate : 89.7975\n",
      "2/25503 0.007842214641414736% L2_21 vyaroxjwnkljwbhkzphd mode rate : 74.25\n",
      "3/25503 0.011763321962122103% L2_21 jiicqwbbzhvvjxhozaji mode rate : 76.74822695035462\n",
      "4/25503 0.01568442928282947% L2_21 kfxkkclkrczktrfddomu mode rate : 96.46631205673759\n",
      "5/25503 0.01960553660353684% L2_21 gtqnppjlorrxfsyvynko "
     ]
    },
    {
     "ename": "KeyboardInterrupt",
     "evalue": "",
     "output_type": "error",
     "traceback": [
      "\u001b[0;31m---------------------------------------------------------------------------\u001b[0m",
      "\u001b[0;31mKeyboardInterrupt\u001b[0m                         Traceback (most recent call last)",
      "File \u001b[0;32m<__array_function__ internals>:177\u001b[0m, in \u001b[0;36mwhere\u001b[0;34m(*args, **kwargs)\u001b[0m\n",
      "\u001b[0;31mKeyboardInterrupt\u001b[0m: "
     ]
    },
    {
     "name": "stderr",
     "output_type": "stream",
     "text": [
      "Exception ignored in: 'sklearn.cluster._k_means_common._relocate_empty_clusters_dense'\n",
      "Traceback (most recent call last):\n",
      "  File \"<__array_function__ internals>\", line 177, in where\n",
      "KeyboardInterrupt: \n"
     ]
    },
    {
     "name": "stdout",
     "output_type": "stream",
     "text": [
      "mode rate : 69.22\n",
      "6/25503 0.023526643924244205% L2_21 xnywobdzwmldmdhaksrj mode rate : 85.08\n",
      "7/25503 0.027447751244951572% L2_21 exnvonenhlvkwxilgepk mode rate : 83.52304964539007\n",
      "8/25503 0.03136885856565894% L2_21 hkforrdlkwrebciozzls mode rate : 51.06\n",
      "9/25503 0.03528996588636631% L2_21 zacluczxkpugvptwwklk mode rate : 86.06205673758865\n",
      "10/25503 0.03921107320707368% L2_21 ktrcaqqdeokgrxblhfgg mode rate : 78.18971631205673\n",
      "11/25503 0.04313218052778105% L2_21 pocgcvdqpawkpiuiinie mode rate : 72.27749999999999\n",
      "12/25503 0.04705328784848841% L2_21 nklfppcjcwokqzqufhaz mode rate : 80.205\n",
      "13/25503 0.050974395169195774% L2_21 wtzonodmnxncddrwiqeu "
     ]
    },
    {
     "ename": "KeyboardInterrupt",
     "evalue": "",
     "output_type": "error",
     "traceback": [
      "\u001b[0;31m---------------------------------------------------------------------------\u001b[0m",
      "\u001b[0;31mKeyboardInterrupt\u001b[0m                         Traceback (most recent call last)",
      "File \u001b[0;32m<__array_function__ internals>:177\u001b[0m, in \u001b[0;36mwhere\u001b[0;34m(*args, **kwargs)\u001b[0m\n",
      "\u001b[0;31mKeyboardInterrupt\u001b[0m: "
     ]
    },
    {
     "name": "stderr",
     "output_type": "stream",
     "text": [
      "Exception ignored in: 'sklearn.cluster._k_means_common._relocate_empty_clusters_dense'\n",
      "Traceback (most recent call last):\n",
      "  File \"<__array_function__ internals>\", line 177, in where\n",
      "KeyboardInterrupt: \n"
     ]
    },
    {
     "name": "stdout",
     "output_type": "stream",
     "text": [
      "mode rate : 71.08\n",
      "14/25503 0.054895502489903145% L2_21 hetfwssaknofzdiptyay mode rate : 83.94\n",
      "15/25503 0.058816609810610515% L2_21 tazsyjmycvnaidiywlfk "
     ]
    },
    {
     "ename": "KeyboardInterrupt",
     "evalue": "",
     "output_type": "error",
     "traceback": [
      "\u001b[0;31m---------------------------------------------------------------------------\u001b[0m",
      "\u001b[0;31mKeyboardInterrupt\u001b[0m                         Traceback (most recent call last)",
      "Cell \u001b[0;32mIn [39], line 3\u001b[0m\n\u001b[1;32m      1\u001b[0m \u001b[38;5;28;01mfor\u001b[39;00m i, row \u001b[38;5;129;01min\u001b[39;00m df\u001b[38;5;241m.\u001b[39miterrows():\n\u001b[1;32m      2\u001b[0m     \u001b[38;5;28mprint\u001b[39m(\u001b[38;5;124mf\u001b[39m\u001b[38;5;124m\"\u001b[39m\u001b[38;5;132;01m{\u001b[39;00mi\u001b[38;5;132;01m}\u001b[39;00m\u001b[38;5;124m/\u001b[39m\u001b[38;5;132;01m{\u001b[39;00mnumdata\u001b[38;5;132;01m}\u001b[39;00m\u001b[38;5;124m \u001b[39m\u001b[38;5;132;01m{\u001b[39;00mi\u001b[38;5;241m/\u001b[39mnumdata\u001b[38;5;241m*\u001b[39m\u001b[38;5;241m100\u001b[39m\u001b[38;5;132;01m}\u001b[39;00m\u001b[38;5;124m%\u001b[39m\u001b[38;5;124m\"\u001b[39m, row[\u001b[38;5;124m'\u001b[39m\u001b[38;5;124mlabel\u001b[39m\u001b[38;5;124m'\u001b[39m], row[\u001b[38;5;124m'\u001b[39m\u001b[38;5;124mimg\u001b[39m\u001b[38;5;124m'\u001b[39m], end\u001b[38;5;241m=\u001b[39m\u001b[38;5;124m'\u001b[39m\u001b[38;5;124m \u001b[39m\u001b[38;5;124m'\u001b[39m)\n\u001b[0;32m----> 3\u001b[0m     avg, mode, clusters, hist, mode_rate \u001b[38;5;241m=\u001b[39m \u001b[43manalyzeimg\u001b[49m\u001b[43m(\u001b[49m\u001b[38;5;124;43mf\u001b[39;49m\u001b[38;5;124;43m\"\u001b[39;49m\u001b[38;5;132;43;01m{\u001b[39;49;00m\u001b[43mbase_dir\u001b[49m\u001b[38;5;132;43;01m}\u001b[39;49;00m\u001b[38;5;124;43m/\u001b[39;49m\u001b[38;5;132;43;01m{\u001b[39;49;00m\u001b[43mrow\u001b[49m\u001b[43m[\u001b[49m\u001b[38;5;124;43m'\u001b[39;49m\u001b[38;5;124;43mlabel\u001b[39;49m\u001b[38;5;124;43m'\u001b[39;49m\u001b[43m]\u001b[49m\u001b[38;5;132;43;01m}\u001b[39;49;00m\u001b[38;5;124;43m/\u001b[39;49m\u001b[38;5;132;43;01m{\u001b[39;49;00m\u001b[43mrow\u001b[49m\u001b[43m[\u001b[49m\u001b[38;5;124;43m'\u001b[39;49m\u001b[38;5;124;43mimg\u001b[39;49m\u001b[38;5;124;43m'\u001b[39;49m\u001b[43m]\u001b[49m\u001b[38;5;132;43;01m}\u001b[39;49;00m\u001b[38;5;124;43m.\u001b[39;49m\u001b[38;5;132;43;01m{\u001b[39;49;00m\u001b[43mrow\u001b[49m\u001b[43m[\u001b[49m\u001b[38;5;124;43m'\u001b[39;49m\u001b[38;5;124;43mftype\u001b[39;49m\u001b[38;5;124;43m'\u001b[39;49m\u001b[43m]\u001b[49m\u001b[38;5;132;43;01m}\u001b[39;49;00m\u001b[38;5;124;43m\"\u001b[39;49m\u001b[43m,\u001b[49m\u001b[43m \u001b[49m\u001b[43misprint\u001b[49m\u001b[38;5;241;43m=\u001b[39;49m\u001b[38;5;28;43;01mFalse\u001b[39;49;00m\u001b[43m)\u001b[49m\n\u001b[1;32m      4\u001b[0m     df\u001b[38;5;241m.\u001b[39mloc[i, \u001b[38;5;124m'\u001b[39m\u001b[38;5;124mmode_rate\u001b[39m\u001b[38;5;124m'\u001b[39m] \u001b[38;5;241m=\u001b[39m mode_rate\n\u001b[1;32m      5\u001b[0m     \u001b[38;5;28mprint\u001b[39m(\u001b[38;5;124m\"\u001b[39m\u001b[38;5;124mmode rate :\u001b[39m\u001b[38;5;124m\"\u001b[39m, mode_rate)\n",
      "Cell \u001b[0;32mIn [35], line 52\u001b[0m, in \u001b[0;36manalyzeimg\u001b[0;34m(img_dir, isprint)\u001b[0m\n\u001b[1;32m     50\u001b[0m k \u001b[38;5;241m=\u001b[39m \u001b[38;5;241m30\u001b[39m\n\u001b[1;32m     51\u001b[0m clt \u001b[38;5;241m=\u001b[39m KMeans(n_clusters\u001b[38;5;241m=\u001b[39mk)\n\u001b[0;32m---> 52\u001b[0m \u001b[43mclt\u001b[49m\u001b[38;5;241;43m.\u001b[39;49m\u001b[43mfit\u001b[49m\u001b[43m(\u001b[49m\u001b[43mimg\u001b[49m\u001b[43m)\u001b[49m\n\u001b[1;32m     54\u001b[0m \u001b[38;5;28;01mif\u001b[39;00m isprint:\n\u001b[1;32m     55\u001b[0m     \u001b[38;5;28;01mfor\u001b[39;00m center \u001b[38;5;129;01min\u001b[39;00m clt\u001b[38;5;241m.\u001b[39mcluster_centers_:\n",
      "File \u001b[0;32m/usr/local/lib/python3.8/dist-packages/sklearn/cluster/_kmeans.py:1410\u001b[0m, in \u001b[0;36mKMeans.fit\u001b[0;34m(self, X, y, sample_weight)\u001b[0m\n\u001b[1;32m   1406\u001b[0m best_inertia, best_labels \u001b[38;5;241m=\u001b[39m \u001b[38;5;28;01mNone\u001b[39;00m, \u001b[38;5;28;01mNone\u001b[39;00m\n\u001b[1;32m   1408\u001b[0m \u001b[38;5;28;01mfor\u001b[39;00m i \u001b[38;5;129;01min\u001b[39;00m \u001b[38;5;28mrange\u001b[39m(\u001b[38;5;28mself\u001b[39m\u001b[38;5;241m.\u001b[39m_n_init):\n\u001b[1;32m   1409\u001b[0m     \u001b[38;5;66;03m# Initialize centers\u001b[39;00m\n\u001b[0;32m-> 1410\u001b[0m     centers_init \u001b[38;5;241m=\u001b[39m \u001b[38;5;28;43mself\u001b[39;49m\u001b[38;5;241;43m.\u001b[39;49m\u001b[43m_init_centroids\u001b[49m\u001b[43m(\u001b[49m\n\u001b[1;32m   1411\u001b[0m \u001b[43m        \u001b[49m\u001b[43mX\u001b[49m\u001b[43m,\u001b[49m\u001b[43m \u001b[49m\u001b[43mx_squared_norms\u001b[49m\u001b[38;5;241;43m=\u001b[39;49m\u001b[43mx_squared_norms\u001b[49m\u001b[43m,\u001b[49m\u001b[43m \u001b[49m\u001b[43minit\u001b[49m\u001b[38;5;241;43m=\u001b[39;49m\u001b[43minit\u001b[49m\u001b[43m,\u001b[49m\u001b[43m \u001b[49m\u001b[43mrandom_state\u001b[49m\u001b[38;5;241;43m=\u001b[39;49m\u001b[43mrandom_state\u001b[49m\n\u001b[1;32m   1412\u001b[0m \u001b[43m    \u001b[49m\u001b[43m)\u001b[49m\n\u001b[1;32m   1413\u001b[0m     \u001b[38;5;28;01mif\u001b[39;00m \u001b[38;5;28mself\u001b[39m\u001b[38;5;241m.\u001b[39mverbose:\n\u001b[1;32m   1414\u001b[0m         \u001b[38;5;28mprint\u001b[39m(\u001b[38;5;124m\"\u001b[39m\u001b[38;5;124mInitialization complete\u001b[39m\u001b[38;5;124m\"\u001b[39m)\n",
      "File \u001b[0;32m/usr/local/lib/python3.8/dist-packages/sklearn/cluster/_kmeans.py:952\u001b[0m, in \u001b[0;36m_BaseKMeans._init_centroids\u001b[0;34m(self, X, x_squared_norms, init, random_state, init_size, n_centroids)\u001b[0m\n\u001b[1;32m    949\u001b[0m     n_samples \u001b[38;5;241m=\u001b[39m X\u001b[38;5;241m.\u001b[39mshape[\u001b[38;5;241m0\u001b[39m]\n\u001b[1;32m    951\u001b[0m \u001b[38;5;28;01mif\u001b[39;00m \u001b[38;5;28misinstance\u001b[39m(init, \u001b[38;5;28mstr\u001b[39m) \u001b[38;5;129;01mand\u001b[39;00m init \u001b[38;5;241m==\u001b[39m \u001b[38;5;124m\"\u001b[39m\u001b[38;5;124mk-means++\u001b[39m\u001b[38;5;124m\"\u001b[39m:\n\u001b[0;32m--> 952\u001b[0m     centers, _ \u001b[38;5;241m=\u001b[39m \u001b[43m_kmeans_plusplus\u001b[49m\u001b[43m(\u001b[49m\n\u001b[1;32m    953\u001b[0m \u001b[43m        \u001b[49m\u001b[43mX\u001b[49m\u001b[43m,\u001b[49m\n\u001b[1;32m    954\u001b[0m \u001b[43m        \u001b[49m\u001b[43mn_clusters\u001b[49m\u001b[43m,\u001b[49m\n\u001b[1;32m    955\u001b[0m \u001b[43m        \u001b[49m\u001b[43mrandom_state\u001b[49m\u001b[38;5;241;43m=\u001b[39;49m\u001b[43mrandom_state\u001b[49m\u001b[43m,\u001b[49m\n\u001b[1;32m    956\u001b[0m \u001b[43m        \u001b[49m\u001b[43mx_squared_norms\u001b[49m\u001b[38;5;241;43m=\u001b[39;49m\u001b[43mx_squared_norms\u001b[49m\u001b[43m,\u001b[49m\n\u001b[1;32m    957\u001b[0m \u001b[43m    \u001b[49m\u001b[43m)\u001b[49m\n\u001b[1;32m    958\u001b[0m \u001b[38;5;28;01melif\u001b[39;00m \u001b[38;5;28misinstance\u001b[39m(init, \u001b[38;5;28mstr\u001b[39m) \u001b[38;5;129;01mand\u001b[39;00m init \u001b[38;5;241m==\u001b[39m \u001b[38;5;124m\"\u001b[39m\u001b[38;5;124mrandom\u001b[39m\u001b[38;5;124m\"\u001b[39m:\n\u001b[1;32m    959\u001b[0m     seeds \u001b[38;5;241m=\u001b[39m random_state\u001b[38;5;241m.\u001b[39mpermutation(n_samples)[:n_clusters]\n",
      "File \u001b[0;32m/usr/local/lib/python3.8/dist-packages/sklearn/cluster/_kmeans.py:224\u001b[0m, in \u001b[0;36m_kmeans_plusplus\u001b[0;34m(X, n_clusters, x_squared_norms, random_state, n_local_trials)\u001b[0m\n\u001b[1;32m    221\u001b[0m np\u001b[38;5;241m.\u001b[39mclip(candidate_ids, \u001b[38;5;28;01mNone\u001b[39;00m, closest_dist_sq\u001b[38;5;241m.\u001b[39msize \u001b[38;5;241m-\u001b[39m \u001b[38;5;241m1\u001b[39m, out\u001b[38;5;241m=\u001b[39mcandidate_ids)\n\u001b[1;32m    223\u001b[0m \u001b[38;5;66;03m# Compute distances to center candidates\u001b[39;00m\n\u001b[0;32m--> 224\u001b[0m distance_to_candidates \u001b[38;5;241m=\u001b[39m \u001b[43m_euclidean_distances\u001b[49m\u001b[43m(\u001b[49m\n\u001b[1;32m    225\u001b[0m \u001b[43m    \u001b[49m\u001b[43mX\u001b[49m\u001b[43m[\u001b[49m\u001b[43mcandidate_ids\u001b[49m\u001b[43m]\u001b[49m\u001b[43m,\u001b[49m\u001b[43m \u001b[49m\u001b[43mX\u001b[49m\u001b[43m,\u001b[49m\u001b[43m \u001b[49m\u001b[43mY_norm_squared\u001b[49m\u001b[38;5;241;43m=\u001b[39;49m\u001b[43mx_squared_norms\u001b[49m\u001b[43m,\u001b[49m\u001b[43m \u001b[49m\u001b[43msquared\u001b[49m\u001b[38;5;241;43m=\u001b[39;49m\u001b[38;5;28;43;01mTrue\u001b[39;49;00m\n\u001b[1;32m    226\u001b[0m \u001b[43m\u001b[49m\u001b[43m)\u001b[49m\n\u001b[1;32m    228\u001b[0m \u001b[38;5;66;03m# update closest distances squared and potential for each candidate\u001b[39;00m\n\u001b[1;32m    229\u001b[0m np\u001b[38;5;241m.\u001b[39mminimum(closest_dist_sq, distance_to_candidates, out\u001b[38;5;241m=\u001b[39mdistance_to_candidates)\n",
      "File \u001b[0;32m/usr/local/lib/python3.8/dist-packages/sklearn/metrics/pairwise.py:369\u001b[0m, in \u001b[0;36m_euclidean_distances\u001b[0;34m(X, Y, X_norm_squared, Y_norm_squared, squared)\u001b[0m\n\u001b[1;32m    366\u001b[0m     distances \u001b[38;5;241m=\u001b[39m _euclidean_distances_upcast(X, XX, Y, YY)\n\u001b[1;32m    367\u001b[0m \u001b[38;5;28;01melse\u001b[39;00m:\n\u001b[1;32m    368\u001b[0m     \u001b[38;5;66;03m# if dtype is already float64, no need to chunk and upcast\u001b[39;00m\n\u001b[0;32m--> 369\u001b[0m     distances \u001b[38;5;241m=\u001b[39m \u001b[38;5;241m-\u001b[39m\u001b[38;5;241m2\u001b[39m \u001b[38;5;241m*\u001b[39m \u001b[43msafe_sparse_dot\u001b[49m\u001b[43m(\u001b[49m\u001b[43mX\u001b[49m\u001b[43m,\u001b[49m\u001b[43m \u001b[49m\u001b[43mY\u001b[49m\u001b[38;5;241;43m.\u001b[39;49m\u001b[43mT\u001b[49m\u001b[43m,\u001b[49m\u001b[43m \u001b[49m\u001b[43mdense_output\u001b[49m\u001b[38;5;241;43m=\u001b[39;49m\u001b[38;5;28;43;01mTrue\u001b[39;49;00m\u001b[43m)\u001b[49m\n\u001b[1;32m    370\u001b[0m     distances \u001b[38;5;241m+\u001b[39m\u001b[38;5;241m=\u001b[39m XX\n\u001b[1;32m    371\u001b[0m     distances \u001b[38;5;241m+\u001b[39m\u001b[38;5;241m=\u001b[39m YY\n",
      "File \u001b[0;32m/usr/local/lib/python3.8/dist-packages/sklearn/utils/extmath.py:152\u001b[0m, in \u001b[0;36msafe_sparse_dot\u001b[0;34m(a, b, dense_output)\u001b[0m\n\u001b[1;32m    150\u001b[0m         ret \u001b[38;5;241m=\u001b[39m np\u001b[38;5;241m.\u001b[39mdot(a, b)\n\u001b[1;32m    151\u001b[0m \u001b[38;5;28;01melse\u001b[39;00m:\n\u001b[0;32m--> 152\u001b[0m     ret \u001b[38;5;241m=\u001b[39m \u001b[43ma\u001b[49m\u001b[43m \u001b[49m\u001b[38;5;241;43m@\u001b[39;49m\u001b[43m \u001b[49m\u001b[43mb\u001b[49m\n\u001b[1;32m    154\u001b[0m \u001b[38;5;28;01mif\u001b[39;00m (\n\u001b[1;32m    155\u001b[0m     sparse\u001b[38;5;241m.\u001b[39missparse(a)\n\u001b[1;32m    156\u001b[0m     \u001b[38;5;129;01mand\u001b[39;00m sparse\u001b[38;5;241m.\u001b[39missparse(b)\n\u001b[1;32m    157\u001b[0m     \u001b[38;5;129;01mand\u001b[39;00m dense_output\n\u001b[1;32m    158\u001b[0m     \u001b[38;5;129;01mand\u001b[39;00m \u001b[38;5;28mhasattr\u001b[39m(ret, \u001b[38;5;124m\"\u001b[39m\u001b[38;5;124mtoarray\u001b[39m\u001b[38;5;124m\"\u001b[39m)\n\u001b[1;32m    159\u001b[0m ):\n\u001b[1;32m    160\u001b[0m     \u001b[38;5;28;01mreturn\u001b[39;00m ret\u001b[38;5;241m.\u001b[39mtoarray()\n",
      "\u001b[0;31mKeyboardInterrupt\u001b[0m: "
     ]
    }
   ],
   "source": [
    "for i, row in df.iterrows():\n",
    "    print(f\"{i}/{numdata} {i/numdata*100}%\", row['label'], row['img'], end=' ')\n",
    "    avg, mode, clusters, hist, mode_rate = analyzeimg(f\"{base_dir}/{row['label']}/{row['img']}.{row['ftype']}\", isprint=False)\n",
    "    df.loc[i, 'mode_rate'] = mode_rate\n",
    "    print(\"mode rate :\", mode_rate)\n",
    "    \n",
    "print(\"done\")"
   ]
  },
  {
   "cell_type": "code",
   "execution_count": null,
   "id": "9e52caf8",
   "metadata": {},
   "outputs": [],
   "source": [
    "df.to_csv('processed_df.csv', mode='w')"
   ]
  },
  {
   "cell_type": "code",
   "execution_count": null,
   "id": "1a46b818",
   "metadata": {},
   "outputs": [],
   "source": []
  }
 ],
 "metadata": {
  "kernelspec": {
   "display_name": "Python 3 (ipykernel)",
   "language": "python",
   "name": "python3"
  },
  "language_info": {
   "codemirror_mode": {
    "name": "ipython",
    "version": 3
   },
   "file_extension": ".py",
   "mimetype": "text/x-python",
   "name": "python",
   "nbconvert_exporter": "python",
   "pygments_lexer": "ipython3",
   "version": "3.8.10"
  }
 },
 "nbformat": 4,
 "nbformat_minor": 5
}
